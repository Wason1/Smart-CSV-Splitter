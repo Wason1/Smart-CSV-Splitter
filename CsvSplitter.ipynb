{
 "cells": [
  {
   "cell_type": "markdown",
   "metadata": {},
   "source": [
    "# Smart CSV Splitter\n",
    "\n",
    "this will take an excel file and split in into a bunch of csv files by a chosen columnns values. So say you have a column with people's names in it, it will make a csv file for each of the unique names, and also append the name to the original filename. You can choose if you want the csv file to be delimited by commas pipes or whatever."
   ]
  },
  {
   "cell_type": "markdown",
   "metadata": {},
   "source": [
    "#### Importing Packages"
   ]
  },
  {
   "cell_type": "code",
   "execution_count": 180,
   "metadata": {
    "collapsed": true
   },
   "outputs": [],
   "source": [
    "import pandas as pd\n",
    "import numpy as np\n",
    "import os\n",
    "import re"
   ]
  },
  {
   "cell_type": "markdown",
   "metadata": {},
   "source": [
    "#### User Input"
   ]
  },
  {
   "cell_type": "code",
   "execution_count": 181,
   "metadata": {},
   "outputs": [
    {
     "name": "stdout",
     "output_type": "stream",
     "text": [
      "What is the directory of your input file eg... D:/FILES/ALS_DRINKING-ALGAE_WATER_201807101206.xlsx: D:/FILES/ALS_DRINKING-ALGAE_WATER_201807101206.xlsx\n"
     ]
    }
   ],
   "source": [
    "inputfile = input('What is the directory of your input file eg... D:/FILES/ALS_DRINKING-ALGAE_WATER_201807101206.xlsx: ')"
   ]
  },
  {
   "cell_type": "code",
   "execution_count": 182,
   "metadata": {},
   "outputs": [
    {
     "name": "stdout",
     "output_type": "stream",
     "text": [
      "what is the delimiter for cells output? eg: | or , : |\n"
     ]
    }
   ],
   "source": [
    "seperator = input('what is the delimiter for cells output? eg: | or , : ' )"
   ]
  },
  {
   "cell_type": "code",
   "execution_count": 183,
   "metadata": {},
   "outputs": [
    {
     "name": "stdout",
     "output_type": "stream",
     "text": [
      "what is the heading for the column you want to split the data by?: TEST_KEY_CODE\n"
     ]
    }
   ],
   "source": [
    "columntosplit = input('what is the heading for the column you want to split the data by?: ')"
   ]
  },
  {
   "cell_type": "markdown",
   "metadata": {},
   "source": [
    "#### Reading the file"
   ]
  },
  {
   "cell_type": "code",
   "execution_count": 184,
   "metadata": {},
   "outputs": [],
   "source": [
    "df = pd.read_excel(inputfile, index=False)\n",
    "df_column = df[columntosplit]\n",
    "unique_values = df_column.unique()\n",
    "numberofunique = len(unique_values)"
   ]
  },
  {
   "cell_type": "markdown",
   "metadata": {},
   "source": [
    "#### Creating CSV's"
   ]
  },
  {
   "cell_type": "code",
   "execution_count": 186,
   "metadata": {},
   "outputs": [],
   "source": [
    "for i in range(numberofunique):\n",
    "    bools = df[columntosplit] == unique_values[i]\n",
    "    df_temp = df[bools]\n",
    "    filetag = re.sub('[^A-Za-z0-9]+', '-', unique_values[i])\n",
    "    filename, file_extension = os.path.splitext(inputfile)\n",
    "    filename = filename + \"_\" + filetag + \".csv\"\n",
    "    df_temp.to_csv(filename, sep=seperator, index=False)"
   ]
  },
  {
   "cell_type": "code",
   "execution_count": null,
   "metadata": {
    "collapsed": true
   },
   "outputs": [],
   "source": []
  }
 ],
 "metadata": {
  "kernelspec": {
   "display_name": "Python 3",
   "language": "python",
   "name": "python3"
  },
  "language_info": {
   "codemirror_mode": {
    "name": "ipython",
    "version": 3
   },
   "file_extension": ".py",
   "mimetype": "text/x-python",
   "name": "python",
   "nbconvert_exporter": "python",
   "pygments_lexer": "ipython3",
   "version": "3.5.3"
  }
 },
 "nbformat": 4,
 "nbformat_minor": 2
}
